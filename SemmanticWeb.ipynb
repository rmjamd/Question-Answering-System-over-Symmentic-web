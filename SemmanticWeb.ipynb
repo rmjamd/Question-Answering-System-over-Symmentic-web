{
 "cells": [
  {
   "cell_type": "code",
   "execution_count": 1,
   "metadata": {},
   "outputs": [],
   "source": [
    "import nltk, pandas as pd, numpy as np\n",
    "from nltk.parse.corenlp import CoreNLPParser, CoreNLPDependencyParser\n",
    "from nltk.tree import ParentedTree\n",
    "from SPARQLWrapper import SPARQLWrapper, JSON\n",
    "dep_parser = CoreNLPDependencyParser(url='http://localhost:9000')\n",
    "pos_tagger = CoreNLPParser(url='http://localhost:9000', tagtype='pos')"
   ]
  },
  {
   "cell_type": "code",
   "execution_count": 2,
   "metadata": {},
   "outputs": [
    {
     "name": "stdout",
     "output_type": "stream",
     "text": [
      "http://dbpedia.org/resource/Nelumbo_nucifera\n"
     ]
    }
   ],
   "source": [
    "from SPARQLWrapper import SPARQLWrapper, JSON\n",
    "def runQuery(query,res):\n",
    "    sparql = SPARQLWrapper(\"http://dbpedia.org/sparql\")\n",
    "    sparql.setQuery(query) \n",
    "    sparql.setReturnFormat(JSON)\n",
    "    result = sparql.query().convert()\n",
    "    for hit in result[\"results\"][\"bindings\"]:\n",
    "        res[hit[\"x1\"][\"value\"]]=True;\n",
    "    for i in list(res.keys()):\n",
    "        print(i)\n",
    "def sparqlQuery(a,b):\n",
    "    res=dict()\n",
    "    s1=\"\"\" PREFIX owl: <http://www.w3.org/2002/07/owl#>\n",
    "    PREFIX rdfs: <http://www.w3.org/2000/01/rdf-schema#>\n",
    "    PREFIX rdf: <http://www.w3.org/1999/02/22-rdf-syntax-ns#>\n",
    "    PREFIX foaf: <http://xmlns.com/foaf/0.1/>\n",
    "    PREFIX skos: <http://www.w3.org/2004/02/skos/core#>\n",
    "    PREFIX quepy: <http://www.machinalis.com/quepy#>\n",
    "    PREFIX dbpedia: <http://dbpedia.org/ontology/>\n",
    "    PREFIX dbpprop: <http://dbpedia.org/property/>\n",
    "    PREFIX dbpedia-owl: <http://dbpedia.org/ontology/>\"\"\"\n",
    "    s2=\"\"\"\n",
    "    SELECT DISTINCT ?x1 WHERE {\n",
    "    ?x0 rdfs:label \"\"\"\n",
    "    s3=\"\\\"\"+a+\"\\\"\" +\"@en.\"\n",
    "    s4=\"\"\n",
    "    s5=\"\"\n",
    "    if(b !=\"\"):\n",
    "        s4=\"\"\"?x0 dbo:\"\"\"+b+\"\"\" ?x1.}LIMIT 1\"\"\"\n",
    "        s5=\"\"\"?x0 dbp:\"\"\"+b+\"\"\" ?x1.}LIMIT 1\"\"\"\n",
    "        runQuery(s1+s2+s3+s4,res)\n",
    "        runQuery(s1+s2+s3+s5,res)\n",
    "    else:\n",
    "        s2=\"\"\"\n",
    "        SELECT DISTINCT ?x1 WHERE {\n",
    "        ?x1 rdfs:label \"\"\"\n",
    "        s3=\"\\\"\"+a+\"\\\"\" +\"@en.}LIMIT 1\"\n",
    "        runQuery(s1+s2+s3,res)\n",
    "sparqlQuery(\"India\",\"flower\")"
   ]
  },
  {
   "cell_type": "code",
   "execution_count": 3,
   "metadata": {},
   "outputs": [
    {
     "data": {
      "text/plain": [
       "('pen', 'pen', [], None)"
      ]
     },
     "execution_count": 3,
     "metadata": {},
     "output_type": "execute_result"
    }
   ],
   "source": [
    "def triplet_extraction (input_sent, output=['parse_tree','spo','result']):\n",
    "    # Parse the input sentence with Stanford CoreNLP Parser\n",
    "    pos_type = pos_tagger.tag(input_sent.split())\n",
    "    parse_tree, = ParentedTree.convert(list(pos_tagger.parse(input_sent.split()))[0])\n",
    "    dep_type, = ParentedTree.convert(dep_parser.parse(input_sent.split()))\n",
    "    # Extract subject, predicate and object\n",
    "    x,y,z= extract_subject(parse_tree)\n",
    "    predicate = extract_predicate(parse_tree)\n",
    " \n",
    "    return x,y,z,predicate;\n",
    "\n",
    "def extract_subject (parse_tree):\n",
    "    # Extract the first noun found in NP_subtree\n",
    "    subject = []\n",
    "  #  print(parse_tree)\n",
    "    f=False;\n",
    "    ff=False\n",
    "    temp=\"\"\n",
    "    x=''\n",
    "    y=''\n",
    "    z=[]\n",
    "    for s in parse_tree.subtrees(lambda x: x.label() == 'NP'):\n",
    "        if(not f):\n",
    "            temp=' '.join(s.flatten())\n",
    "            f=True\n",
    "            x=temp\n",
    "        for t in s.subtrees(lambda y: y.label().startswith('NN')):\n",
    "            if(not ff):\n",
    "                y=t[0];\n",
    "                z=extract_attr(t)\n",
    "                ff=True\n",
    "    return x,y,z\n",
    "    \n",
    "\n",
    "def extract_predicate (parse_tree):\n",
    "    # Extract the deepest(last) verb foybd ub VP_subtree\n",
    "    output, predicate = [],[]\n",
    "    for s in parse_tree.subtrees(lambda x: x.label() == 'VP'):\n",
    "        for t in s.subtrees(lambda y: y.label().startswith('VBD') or y.label().startswith('VBZ')):\n",
    "            output = [t[0], extract_attr(t)]\n",
    "            if output != [] and output not in predicate:    \n",
    "                predicate.append(output)\n",
    "    if len(predicate) != 0: return predicate[-1]\n",
    "    else: return\n",
    "def extract_attr (word):\n",
    "    attrs = []     \n",
    "  #  print(word.parent())\n",
    "    # Search among the word's siblings\n",
    "    if word.label().startswith('JJ'):\n",
    "        for p in word.parent(): \n",
    "            if p.label() == 'RB':\n",
    "                attrs.append(p[0])\n",
    "    elif word.label().startswith('VB'):\n",
    "        for p in word.parent():\n",
    "            if p.label() == 'ADVP':\n",
    "                attrs.append(p[0])\n",
    "    # Search among the word's uncles\n",
    "    if word.label().startswith('NN'):\n",
    "        for p in word.parent().parent():\n",
    "            if p.label() == 'PP':\n",
    "                for t in p.subtrees(lambda y: y.label()=='NP'):\n",
    "                     attrs.append(' '.join(t.flatten()))\n",
    "       \n",
    "    return attrs\n",
    "triplet_extraction('Who is the host of BBC Wild Life Specials',['parse_tree','spo','result'])\n",
    "triplet_extraction('Who is Rabindranath Tagore')\n",
    "triplet_extraction('who wrote the pillier of earth')\n",
    "triplet_extraction('who directs pather panchali')\n",
    "triplet_extraction('who is the author of the origin of the species')\n",
    "triplet_extraction('what is the total population of Melbourne')\n",
    "triplet_extraction('what are the launch pad operated in NASA')\n",
    "triplet_extraction('which companies are located in California')\n",
    "triplet_extraction('what is the location of House of Parliament')\n",
    "triplet_extraction('what is the age of Rabindranath Tagore')\n",
    "triplet_extraction('who have pen')\n",
    "\n"
   ]
  },
  {
   "cell_type": "code",
   "execution_count": 4,
   "metadata": {},
   "outputs": [],
   "source": [
    "def findAnswer(question):  \n",
    "    x,y,z,predicate=triplet_extraction(question)\n",
    "\n",
    "    print(\"result\")\n",
    "    if(predicate==None):\n",
    "        lable=x\n",
    "        relation=\"\"\n",
    "        sparqlQuery(lable,relation)\n",
    "        #calltriplet_extraction('what is the age of Rabindranath Tagore')\n",
    "        for i in z :\n",
    "            lable=i\n",
    "            relation=y\n",
    "            sparqlQuery(lable,relation)\n",
    "    else:\n",
    "        lable=x\n",
    "        relation=predicate[0]\n",
    "        sparqlQuery(lable,relation)\n",
    "        for i in z :\n",
    "            lable=i\n",
    "            relation=predicate[0]\n",
    "            sparqlQuery(lable,relation)\n"
   ]
  },
  {
   "cell_type": "code",
   "execution_count": 7,
   "metadata": {},
   "outputs": [
    {
     "name": "stdout",
     "output_type": "stream",
     "text": [
      "result\n",
      "INR\n",
      "INR\n",
      "result\n",
      "53012500\n",
      "result\n",
      "http://dbpedia.org/resource/Category:Rabindranath_Tagore\n"
     ]
    }
   ],
   "source": [
    "findAnswer(\"What is the currencyCode of India\")\n",
    "findAnswer(\"What is the populationCensus of England\")\n",
    "findAnswer(\"Who is Rabindranath Tagore\")"
   ]
  },
  {
   "cell_type": "code",
   "execution_count": null,
   "metadata": {},
   "outputs": [],
   "source": []
  }
 ],
 "metadata": {
  "kernelspec": {
   "display_name": "Python 3",
   "language": "python",
   "name": "python3"
  },
  "language_info": {
   "codemirror_mode": {
    "name": "ipython",
    "version": 3
   },
   "file_extension": ".py",
   "mimetype": "text/x-python",
   "name": "python",
   "nbconvert_exporter": "python",
   "pygments_lexer": "ipython3",
   "version": "3.7.6"
  }
 },
 "nbformat": 4,
 "nbformat_minor": 4
}
